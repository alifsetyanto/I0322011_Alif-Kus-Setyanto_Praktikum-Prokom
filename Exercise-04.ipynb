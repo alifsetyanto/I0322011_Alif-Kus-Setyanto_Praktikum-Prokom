{
 "cells": [
  {
   "cell_type": "code",
   "execution_count": null,
   "metadata": {},
   "outputs": [],
   "source": [
    "print(input(\"Nama: Alif Kus Setyanto\"))\n",
    "print(input(\"NIM: I0322011\"))\n",
    "print(input(\"Kelas: A\"))"
   ]
  },
  {
   "attachments": {},
   "cell_type": "markdown",
   "metadata": {},
   "source": [
    "## 1."
   ]
  },
  {
   "attachments": {},
   "cell_type": "markdown",
   "metadata": {},
   "source": [
    "Buatlah program persyaratan pembuatan SIM dengan input yaitu nama user, umur user, dan nilai tes user.<br>\n",
    "Dengan ketentuan mendapat SIM sebagai berikut:\n",
    "* Umur dari user harus lebih dari sama dengan 17 tahun\n",
    "* Nilai tes lebih dari sama dengan 70\n",
    "\n",
    "<br>Output yang dihasilkan dari program adalah:\n",
    "<br>\"Selamat Anda Berhak Mendapatkan SIM Anda\"\n",
    "<br>\"Maaf, Anda tidak berhak mendapatkan SIM anda\"\n",
    "> *note: Kerjakan soal ini dengan percabangan*"
   ]
  },
  {
   "cell_type": "code",
   "execution_count": 1,
   "metadata": {},
   "outputs": [
    {
     "name": "stdout",
     "output_type": "stream",
     "text": [
      "Selamat Anda Berhak Mendapatkan SIM Anda\n"
     ]
    }
   ],
   "source": [
    "# Kerjakan soal no 1 di sini\n",
    "\n",
    "nama = input(\"Masukkan Nama Anda\")\n",
    "umur = int(input(\"Masukkan Umur \"))\n",
    "nilai = int(input(\"Masukkan Nilai tes \"))\n",
    "\n",
    "if umur >= 17:\n",
    "    if nilai >= 70:\n",
    "        print(\"Selamat Anda Berhak Mendapatkan SIM Anda\")\n",
    "    else:\n",
    "        print(\"Maaf, Anda tidak berhak mendapatkan SIM Anda\")\n",
    "else:\n",
    "    print(\"Maaf, Anda tidak berhak mendapatkan SIM Anda\")"
   ]
  },
  {
   "attachments": {},
   "cell_type": "markdown",
   "metadata": {},
   "source": [
    "## 2."
   ]
  },
  {
   "attachments": {},
   "cell_type": "markdown",
   "metadata": {},
   "source": [
    "Buatlah program untuk mencari bilangan terbesar yang diinput dari user.<br>\n",
    "<br>Dengan ketentuan sebagai berikut:\n",
    "* Program nenerima 3 input bilangan dari user\n",
    "* Program akan menentukan mana bilangan terbesar\n",
    "* Output yang akan dihasilkan misalnya adalah \"Dari bil_1, bil_2, dan bil_3, bilangan terbesarnya adalah bilangan bil_2\"\n",
    "> *note: Kerjakan soal ini dengan percabangan*"
   ]
  },
  {
   "cell_type": "code",
   "execution_count": 2,
   "metadata": {},
   "outputs": [
    {
     "name": "stdout",
     "output_type": "stream",
     "text": [
      "Dari 10 , 15 , dan 18 bilangan terbesarnya adalah bilangan 18\n"
     ]
    }
   ],
   "source": [
    "# Kerjakan soal nomor 2 disini\n",
    "\n",
    "bilangan_1 = int(input(\"Masukkan Bilangan Pertama\"))\n",
    "bilangan_2 = int(input(\"Masukkan Bilangan Kedua\"))\n",
    "bilangan_3 = int(input(\"Masukkan Bilangan Ketiga\"))\n",
    "\n",
    "if bilangan_1 > bilangan_2 and bilangan_1 > bilangan_3:\n",
    "    print(\"Dari\", bilangan_1,\",\",bilangan_2, \", dan\",bilangan_3, \"bilangan terbesarnya adalah bilangan\", bilangan_1)\n",
    "elif bilangan_3 > bilangan_1 and bilangan_3 > bilangan_2:\n",
    "    print(\"Dari\", bilangan_1,\",\",bilangan_2, \", dan\",bilangan_3, \"bilangan terbesarnya adalah bilangan\", bilangan_3)\n",
    "else:\n",
    "    print(\"Dari\", bilangan_1, \",\",bilangan_2, \", dan\",bilangan_3, \"bilangan terbesarnya adalah bilangan\", bilangan_2)"
   ]
  }
 ],
 "metadata": {
  "kernelspec": {
   "display_name": "Python 3",
   "language": "python",
   "name": "python3"
  },
  "language_info": {
   "codemirror_mode": {
    "name": "ipython",
    "version": 3
   },
   "file_extension": ".py",
   "mimetype": "text/x-python",
   "name": "python",
   "nbconvert_exporter": "python",
   "pygments_lexer": "ipython3",
   "version": "3.11.2"
  },
  "orig_nbformat": 4
 },
 "nbformat": 4,
 "nbformat_minor": 2
}
