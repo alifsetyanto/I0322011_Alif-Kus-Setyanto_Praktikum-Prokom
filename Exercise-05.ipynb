{
 "cells": [
  {
   "attachments": {},
   "cell_type": "markdown",
   "metadata": {},
   "source": [
    "1. Buatlah program untuk menampilkan total penjumlahan bilangan ganjil dan total penjumlahan bilangan genap dengan input dari user berupa range (batas atas dan batas bawah)!"
   ]
  },
  {
   "cell_type": "code",
   "execution_count": 5,
   "metadata": {},
   "outputs": [
    {
     "name": "stdout",
     "output_type": "stream",
     "text": [
      "hasil penjumlahan bilangan ganjil dengan batas bawah 1 hingga 7 adalah 16\n",
      "hasil penjumlahan bilangan genap dengan batas bawah 1 hingga 7 adalah 12\n"
     ]
    }
   ],
   "source": [
    "# Kerjakan nomor 1 di sini\n",
    "\n",
    "i = int(input(\"masukkan batas bawah : \"))\n",
    "j = int(input(\"masukkan batas atas : \"))\n",
    "\n",
    "\n",
    "penjumlahan1 = 0\n",
    "penjumlahan2 = 0\n",
    "\n",
    "for nilai in range(i,j+1):\n",
    "    if nilai % 2 == 1:\n",
    "        penjumlahan1 = penjumlahan1 + nilai\n",
    "    else:\n",
    "        penjumlahan2 = penjumlahan2 + nilai\n",
    "\n",
    "print(f\"hasil penjumlahan bilangan ganjil dengan batas bawah {i} hingga {j} adalah {penjumlahan1}\")\n",
    "print(f\"hasil penjumlahan bilangan genap dengan batas bawah {i} hingga {j} adalah {penjumlahan2}\")"
   ]
  },
  {
   "attachments": {},
   "cell_type": "markdown",
   "metadata": {},
   "source": [
    "2. Buatlah sebuah list yang berisi daftar makanan khas daerah (minimal 10 makanan termasuk makanan khas Solo). Kemudian buat program pencarian menggunakan pengulangan. Apabila nama makanan yang user inputkan sudah sesuai dengan isi list maka program akan berhenti dan menampilkan output \"(makanan yang diinput user) adalah makanan khas daerah\"."
   ]
  },
  {
   "cell_type": "code",
   "execution_count": 4,
   "metadata": {},
   "outputs": [
    {
     "name": "stdout",
     "output_type": "stream",
     "text": [
      "daftar makanan khas daerah\n",
      "========================================\n",
      "sate ayam\n",
      "gudeg\n",
      "pempek\n",
      "nasi pecel\n",
      "serabi solo\n",
      "selat solo\n",
      "timlo\n",
      "rujak cingur\n",
      "bika ambon\n",
      "rawon\n",
      "========================================\n",
      "rawon adalah makanan khas daerah\n"
     ]
    }
   ],
   "source": [
    "# Kerjakan nomor 2 di sini\n",
    "\n",
    "makanan = [\"sate ayam\",\"gudeg\",\"pempek\",\"nasi pecel\",\"serabi solo\",\"selat solo\",\"timlo\",\"rujak cingur\",\"bika ambon\",\"rawon\"]\n",
    "\n",
    "print(\"daftar makanan khas daerah\")\n",
    "print(\"=\" * 40)\n",
    "\n",
    "for i in makanan:\n",
    "    print(i)\n",
    "    \n",
    "k = 1\n",
    "while k == 1:\n",
    "    x = input(\"masukkan makanan favorit : \")\n",
    "    if x == x in makanan:\n",
    "        print(\"=\" * 40)\n",
    "        print(f\"{x} adalah makanan khas daerah\")\n",
    "        break"
   ]
  },
  {
   "attachments": {},
   "cell_type": "markdown",
   "metadata": {},
   "source": [
    "3. Buatlah program untuk menghitung rata-rata 7 bilangan dimana bilangan-bilangan tersebut didapat melalui input user!"
   ]
  },
  {
   "cell_type": "code",
   "execution_count": 1,
   "metadata": {},
   "outputs": [
    {
     "name": "stdout",
     "output_type": "stream",
     "text": [
      "rata rata dari [5, 4, 3, 5, 4, 5, 2] adalah 4.0\n"
     ]
    }
   ],
   "source": [
    "# Kerjakan nomor 3 di sini\n",
    "\n",
    "bilangan = []\n",
    "\n",
    "while len(bilangan) < 7:\n",
    "    i = int(input(\"masukkan bilangan : \"))\n",
    "\n",
    "    bilangan.append(i)\n",
    "\n",
    "hasil = 0\n",
    "for x in range(0,len(bilangan)):\n",
    "    hasil = hasil + bilangan[x]\n",
    "    rata2 = hasil/len(bilangan)\n",
    "\n",
    "print(f\"rata rata dari {bilangan} adalah {rata2}\")"
   ]
  }
 ],
 "metadata": {
  "kernelspec": {
   "display_name": "Python 3",
   "language": "python",
   "name": "python3"
  },
  "language_info": {
   "codemirror_mode": {
    "name": "ipython",
    "version": 3
   },
   "file_extension": ".py",
   "mimetype": "text/x-python",
   "name": "python",
   "nbconvert_exporter": "python",
   "pygments_lexer": "ipython3",
   "version": "3.11.2"
  },
  "orig_nbformat": 4
 },
 "nbformat": 4,
 "nbformat_minor": 2
}
