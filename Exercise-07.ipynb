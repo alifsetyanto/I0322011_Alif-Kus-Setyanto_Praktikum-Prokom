{
 "cells": [
  {
   "cell_type": "code",
   "execution_count": 3,
   "metadata": {},
   "outputs": [
    {
     "name": "stdout",
     "output_type": "stream",
     "text": [
      "1 2 \n",
      "3 5 \n"
     ]
    },
    {
     "data": {
      "text/plain": [
       "[[1, 2], [3, 5]]"
      ]
     },
     "execution_count": 3,
     "metadata": {},
     "output_type": "execute_result"
    }
   ],
   "source": [
    "#Buatlah sebuah fungsi untuk membuat matrix berdasarkan input dari user\n",
    "\n",
    "def create_matrix(baris,kolom):\n",
    "    matrix = []\n",
    "    for a in range(baris):\n",
    "        matrix.append([])\n",
    "\n",
    "        for b in range(kolom):\n",
    "            isi = int(input(f\"Masukkan isi matriks[{a}][{b}]: \"))\n",
    "            matrix[a].append(isi)\n",
    "        \n",
    "    for a in range(baris):\n",
    "        for b in range(kolom):\n",
    "            print(matrix[a][b], end=\" \")\n",
    "        print()\n",
    "\n",
    "\n",
    "    return matrix\n",
    "\n",
    "\n",
    "baris = int(input('Masukkan Jumlah Baris:\\t'))\n",
    "kolom = int(input('Masukkan Jumlah Kolom:\\t'))\n",
    "\n",
    "create_matrix(baris,kolom)"
   ]
  },
  {
   "cell_type": "code",
   "execution_count": 11,
   "metadata": {},
   "outputs": [
    {
     "data": {
      "text/plain": [
       "[3, 7, 11, 15]"
      ]
     },
     "execution_count": 11,
     "metadata": {},
     "output_type": "execute_result"
    }
   ],
   "source": [
    "#Buatlah sebuah fungsi untuk menambah dua matrix berdasarkan input user\n",
    "\n",
    "def tambah_matrix(matrix1,matrix2):\n",
    "    tambah = []\n",
    "\n",
    "   # membuat matriks pertama\n",
    "    for a in range(baris):\n",
    "        matrixA.append([])\n",
    "\n",
    "        for b in range(kolom):\n",
    "            isi = int(input(f\"Masukkan isi matriks[{a}][{b}]: \"))\n",
    "            matrixA[a].append(isi)\n",
    "    \n",
    "    # membuat matriks kedua\n",
    "    for a in range(baris):\n",
    "        matrixB.append([])\n",
    "\n",
    "        for b in range(kolom):\n",
    "            isi = int(input(f\"Masukkan isi matriks[{a}][{b}]: \"))\n",
    "            matrixB[a].append(isi)\n",
    "    \n",
    "    # menjumlahkan matriks\n",
    "    for a in range(baris):\n",
    "        for b in range(kolom):\n",
    "            isi = matrixA[a][b] + matrixB[a][b]\n",
    "            tambah.append(isi)\n",
    "    return tambah\n",
    "\n",
    "baris = int(input('Masukkan Jumlah Baris:\\t'))\n",
    "kolom = int(input('Masukkan Jumlah Kolom:\\t'))\n",
    "\n",
    "matrixA = []\n",
    "matrixB = []\n",
    "\n",
    "tambah_matrix(matrixA, matrixB)"
   ]
  },
  {
   "cell_type": "code",
   "execution_count": 14,
   "metadata": {},
   "outputs": [
    {
     "name": "stdout",
     "output_type": "stream",
     "text": [
      "6 6 \n",
      "9 9 \n"
     ]
    },
    {
     "data": {
      "text/plain": [
       "[[6, 6], [9, 9]]"
      ]
     },
     "execution_count": 14,
     "metadata": {},
     "output_type": "execute_result"
    }
   ],
   "source": [
    "#Buatlah fungsi untuk mengakalikan dua buah matrix berdasarkan input user\n",
    "\n",
    "def multiply_matrix(matrix1, matrix2):\n",
    "    result=[]\n",
    "\n",
    "   # membuat matriks pertama\n",
    "    for a in range(baris):\n",
    "        matrix1.append([])\n",
    "\n",
    "        for b in range(kolom):\n",
    "            isi = int(input(f\"Masukkan isi matriks[{a}][{b}]: \"))\n",
    "            matrix1[a].append(isi)\n",
    "    \n",
    "    # membuat matriks kedua\n",
    "    for a in range(baris):\n",
    "        matrix2.append([])\n",
    "\n",
    "        for b in range(kolom):\n",
    "            isi = int(input(f\"Masukkan isi matriks[{a}][{b}]: \"))\n",
    "            matrix2[a].append(isi)\n",
    "\n",
    "    # mengkalikan matriks\n",
    "    for c in range(0, len(matrix1)):\n",
    "        row = []\n",
    "        for d in range(0, len(matrix1[0])):\n",
    "            total = 0\n",
    "            for e in range(0, len(matrix1)):\n",
    "                total = total + (matrix1[c][e] * matrix2[e][d])\n",
    "            row.append(total)\n",
    "        result.append(row)\n",
    "        \n",
    "    for c in range(0, len(result)):\n",
    "        for d in range(0, len(result[0])):\n",
    "            print (result[c][d], end=' ')\n",
    "        print()\n",
    "    return result\n",
    "\n",
    "baris = int(input('Masukkan Jumlah Baris:\\t'))\n",
    "kolom = int(input('Masukkan Jumlah Kolom:\\t'))\n",
    "\n",
    "\n",
    "matrix1 = []\n",
    "matrix2 = []\n",
    "\n",
    "multiply_matrix(matrix1, matrix2)"
   ]
  }
 ],
 "metadata": {
  "kernelspec": {
   "display_name": "Python 3",
   "language": "python",
   "name": "python3"
  },
  "language_info": {
   "codemirror_mode": {
    "name": "ipython",
    "version": 3
   },
   "file_extension": ".py",
   "mimetype": "text/x-python",
   "name": "python",
   "nbconvert_exporter": "python",
   "pygments_lexer": "ipython3",
   "version": "3.11.2"
  },
  "orig_nbformat": 4
 },
 "nbformat": 4,
 "nbformat_minor": 2
}
